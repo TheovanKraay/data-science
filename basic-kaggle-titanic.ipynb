{
 "cells": [
  {
   "cell_type": "code",
   "execution_count": 8,
   "metadata": {},
   "outputs": [],
   "source": [
    "from sklearn import preprocessing\n",
    "def convert(data):\n",
    "    number = preprocessing.LabelEncoder()\n",
    "    data['Sex'] = number.fit_transform(data.Sex)\n",
    "    number = preprocessing.LabelEncoder()   \n",
    "    data=data.fillna(-999)\n",
    "    return data"
   ]
  },
  {
   "cell_type": "code",
   "execution_count": 9,
   "metadata": {},
   "outputs": [
    {
     "name": "stdout",
     "output_type": "stream",
     "text": [
      "LogisticRegression(C=0.8, class_weight=None, dual=False, fit_intercept=True,\n",
      "          intercept_scaling=1, max_iter=1000, multi_class='multinomial',\n",
      "          n_jobs=1, penalty='l2', random_state=None, solver='lbfgs',\n",
      "          tol=0.0001, verbose=0, warm_start=False)\n",
      "Accuracy is 0.7947761194029851\n",
      "Export the model to model.pkl\n"
     ]
    }
   ],
   "source": [
    "import pickle\n",
    "import sys\n",
    "import os\n",
    "import pandas\n",
    "import numpy as np\n",
    "from sklearn import datasets\n",
    "from sklearn.metrics import confusion_matrix\n",
    "from sklearn.linear_model import LogisticRegression\n",
    "from sklearn.model_selection import train_test_split\n",
    "from sklearn.metrics import precision_recall_curve\n",
    "\n",
    "from azureml.core import Run\n",
    "# from utils import load_data\n",
    "\n",
    "# create the outputs folder\n",
    "os.makedirs('./outputs', exist_ok=True)\n",
    "\n",
    "url = \"https://raw.githubusercontent.com/TheovanKraay/mldata/master/kaggle-train.csv\"\n",
    "titanic = pandas.read_csv(url)\n",
    "\n",
    "titanic = convert(titanic)\n",
    "\n",
    "# load features and labels\n",
    "X, Y = titanic[['Sex', 'Age', 'SibSp', 'Fare', 'Parch']].values, titanic['Survived'].values\n",
    "\n",
    "# split data 65%-35% into training set and test set\n",
    "X_train, X_test, Y_train, Y_test = train_test_split(X, Y, test_size=0.30, random_state=0)\n",
    "    \n",
    "# get hold of the current run\n",
    "run = Run.get_context()\n",
    "\n",
    "# print(\"Regularization rate is {}\".format(reg))\n",
    "\n",
    "# train a logistic regression model on the training set\n",
    "clf1 = LogisticRegression(multi_class=\"multinomial\", max_iter=1000, solver=\"lbfgs\", C=0.8).fit(X_train, Y_train)\n",
    "print (clf1)\n",
    "\n",
    "# evaluate the test set\n",
    "accuracy = clf1.score(X_test, Y_test)\n",
    "print (\"Accuracy is {}\".format(accuracy))\n",
    "\n",
    "# serialize the model on disk in the special 'outputs' folder\n",
    "print (\"Export the model to model.pkl\")\n",
    "f = open('model.pkl', 'wb')\n",
    "pickle.dump(clf1, f)\n",
    "f.close()"
   ]
  },
  {
   "cell_type": "code",
   "execution_count": 10,
   "metadata": {},
   "outputs": [],
   "source": [
    "url = \"https://raw.githubusercontent.com/TheovanKraay/mldata/master/kaggle-test.csv\"\n",
    "test = pandas.read_csv(url)"
   ]
  },
  {
   "cell_type": "code",
   "execution_count": 13,
   "metadata": {},
   "outputs": [
    {
     "name": "stderr",
     "output_type": "stream",
     "text": [
      "C:\\Users\\thvankra\\AppData\\Local\\Continuum\\anaconda3\\lib\\site-packages\\ipykernel_launcher.py:4: SettingWithCopyWarning: \n",
      "A value is trying to be set on a copy of a slice from a DataFrame.\n",
      "Try using .loc[row_indexer,col_indexer] = value instead\n",
      "\n",
      "See the caveats in the documentation: http://pandas.pydata.org/pandas-docs/stable/indexing.html#indexing-view-versus-copy\n",
      "  after removing the cwd from sys.path.\n"
     ]
    }
   ],
   "source": [
    "#testpred = test_dummies[['Sex', 'Age', 'SibSp', 'Parch', 'Fare','FamilySize',  'Pclass_1', 'Pclass_2', 'Pclass_3', 'Title_Master','Title_Miss', 'Title_Mr', 'Title_Mrs', 'Title_Officer','Title_Royalty', 'Cabin_A', 'Cabin_B', 'Cabin_C', 'Cabin_D','Cabin_E', 'Cabin_F', 'Cabin_G', 'Cabin_U', 'Embarked_C','Embarked_Q', 'Embarked_S']]\n",
    "testpred = test[['Sex', 'Age', 'SibSp', 'Fare', 'Parch']]\n",
    "testpred = convert(testpred)\n",
    "y_predict = clf1.predict(testpred.values)\n",
    "\n",
    "testpred = test[['PassengerId','Sex', 'Age', 'SibSp', 'Fare', 'Parch']]\n",
    "#testpred = test[['PassengerId']]"
   ]
  },
  {
   "cell_type": "code",
   "execution_count": 14,
   "metadata": {},
   "outputs": [
    {
     "name": "stdout",
     "output_type": "stream",
     "text": [
      "     PassengerId  Survived\n",
      "0            892         0\n",
      "1            893         1\n",
      "2            894         0\n",
      "3            895         0\n",
      "4            896         1\n",
      "5            897         0\n",
      "6            898         1\n",
      "7            899         0\n",
      "8            900         1\n",
      "9            901         0\n",
      "10           902         0\n",
      "11           903         0\n",
      "12           904         1\n",
      "13           905         0\n",
      "14           906         1\n",
      "15           907         1\n",
      "16           908         0\n",
      "17           909         0\n",
      "18           910         1\n",
      "19           911         1\n",
      "20           912         0\n",
      "21           913         0\n",
      "22           914         1\n",
      "23           915         0\n",
      "24           916         1\n",
      "25           917         0\n",
      "26           918         1\n",
      "27           919         0\n",
      "28           920         0\n",
      "29           921         0\n",
      "..           ...       ...\n",
      "388         1280         0\n",
      "389         1281         0\n",
      "390         1282         0\n",
      "391         1283         1\n",
      "392         1284         0\n",
      "393         1285         0\n",
      "394         1286         0\n",
      "395         1287         1\n",
      "396         1288         0\n",
      "397         1289         1\n",
      "398         1290         0\n",
      "399         1291         0\n",
      "400         1292         1\n",
      "401         1293         0\n",
      "402         1294         1\n",
      "403         1295         0\n",
      "404         1296         0\n",
      "405         1297         0\n",
      "406         1298         0\n",
      "407         1299         1\n",
      "408         1300         1\n",
      "409         1301         1\n",
      "410         1302         1\n",
      "411         1303         1\n",
      "412         1304         1\n",
      "413         1305         0\n",
      "414         1306         1\n",
      "415         1307         0\n",
      "416         1308         0\n",
      "417         1309         0\n",
      "\n",
      "[418 rows x 2 columns]\n"
     ]
    }
   ],
   "source": [
    "#generate a submission file\n",
    "sub = pandas.DataFrame()\n",
    "sub['PassengerId'] = test['PassengerId']\n",
    "sub['Survived'] = y_predict\n",
    "print(sub)"
   ]
  },
  {
   "cell_type": "code",
   "execution_count": 15,
   "metadata": {},
   "outputs": [],
   "source": [
    "#write the submission file\n",
    "sub.to_csv('submission_lr.csv',index=False)"
   ]
  },
  {
   "cell_type": "code",
   "execution_count": null,
   "metadata": {},
   "outputs": [],
   "source": []
  }
 ],
 "metadata": {
  "kernelspec": {
   "display_name": "Python 3",
   "language": "python",
   "name": "python3"
  },
  "language_info": {
   "codemirror_mode": {
    "name": "ipython",
    "version": 3
   },
   "file_extension": ".py",
   "mimetype": "text/x-python",
   "name": "python",
   "nbconvert_exporter": "python",
   "pygments_lexer": "ipython3",
   "version": "3.6.4"
  }
 },
 "nbformat": 4,
 "nbformat_minor": 2
}
