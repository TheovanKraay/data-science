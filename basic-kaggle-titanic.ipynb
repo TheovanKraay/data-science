{
 "cells": [
  {
   "cell_type": "code",
   "execution_count": 2,
   "metadata": {},
   "outputs": [],
   "source": [
    "from sklearn import preprocessing\n",
    "def convert(data):\n",
    "    number = preprocessing.LabelEncoder()\n",
    "    data['Sex'] = number.fit_transform(data.Sex)\n",
    "    number = preprocessing.LabelEncoder()   \n",
    "    data=data.fillna(-999)\n",
    "    return data"
   ]
  },
  {
   "cell_type": "code",
   "execution_count": 4,
   "metadata": {},
   "outputs": [
    {
     "name": "stdout",
     "output_type": "stream",
     "text": [
      "Regularization rate is 1\n",
      "LogisticRegression(C=0.8, class_weight=None, dual=False, fit_intercept=True,\n",
      "          intercept_scaling=1, max_iter=1000, multi_class='multinomial',\n",
      "          n_jobs=1, penalty='l2', random_state=None, solver='lbfgs',\n",
      "          tol=0.0001, verbose=0, warm_start=False)\n",
      "Accuracy is 0.7985074626865671\n",
      "Export the model to model.pkl\n"
     ]
    }
   ],
   "source": [
    "import pickle\n",
    "import sys\n",
    "import os\n",
    "import pandas\n",
    "import numpy as np\n",
    "from sklearn import datasets\n",
    "from sklearn.metrics import confusion_matrix\n",
    "from sklearn.linear_model import LogisticRegression\n",
    "from sklearn.model_selection import train_test_split\n",
    "from sklearn.metrics import precision_recall_curve\n",
    "\n",
    "from azureml.core import Run\n",
    "# from utils import load_data\n",
    "\n",
    "# create the outputs folder\n",
    "os.makedirs('./outputs', exist_ok=True)\n",
    "\n",
    "url = \"https://raw.githubusercontent.com/TheovanKraay/mldata/master/titanic-train.csv\"\n",
    "titanic = pandas.read_csv(url)\n",
    "\n",
    "titanic = convert(titanic)\n",
    "\n",
    "# load features and labels\n",
    "X, Y = titanic[['Sex', 'Age', 'SibSp', 'Fare', 'Parch', 'Embarked']].values, titanic['Survived'].values\n",
    "\n",
    "# split data 65%-35% into training set and test set\n",
    "X_train, X_test, Y_train, Y_test = train_test_split(X, Y, test_size=0.30, random_state=0)\n",
    "    \n",
    "# get hold of the current run\n",
    "run = Run.get_context()\n",
    "\n",
    "print(\"Regularization rate is {}\".format(reg))\n",
    "\n",
    "# train a logistic regression model on the training set\n",
    "clf1 = LogisticRegression(multi_class=\"multinomial\", max_iter=1000, solver=\"lbfgs\", C=0.8).fit(X_train, Y_train)\n",
    "print (clf1)\n",
    "\n",
    "# evaluate the test set\n",
    "accuracy = clf1.score(X_test, Y_test)\n",
    "print (\"Accuracy is {}\".format(accuracy))\n",
    "\n",
    "# serialize the model on disk in the special 'outputs' folder\n",
    "print (\"Export the model to model.pkl\")\n",
    "f = open('model.pkl', 'wb')\n",
    "pickle.dump(clf1, f)\n",
    "f.close()"
   ]
  },
  {
   "cell_type": "code",
   "execution_count": null,
   "metadata": {},
   "outputs": [],
   "source": [
    "# Install a pip package in the current Jupyter kernel\n",
    "import sys\n",
    "!{sys.executable} -m  pip install azureml.core --user"
   ]
  },
  {
   "cell_type": "code",
   "execution_count": null,
   "metadata": {},
   "outputs": [],
   "source": []
  }
 ],
 "metadata": {
  "kernelspec": {
   "display_name": "Python 3",
   "language": "python",
   "name": "python3"
  },
  "language_info": {
   "codemirror_mode": {
    "name": "ipython",
    "version": 3
   },
   "file_extension": ".py",
   "mimetype": "text/x-python",
   "name": "python",
   "nbconvert_exporter": "python",
   "pygments_lexer": "ipython3",
   "version": "3.6.4"
  }
 },
 "nbformat": 4,
 "nbformat_minor": 2
}
