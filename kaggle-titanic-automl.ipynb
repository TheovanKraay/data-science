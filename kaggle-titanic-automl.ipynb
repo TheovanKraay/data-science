{
 "cells": [
  {
   "cell_type": "code",
   "execution_count": 1,
   "metadata": {},
   "outputs": [],
   "source": [
    "# sample of training the titanic data sets and creating a submission using AutoML \n",
    "# for the popular Kaggle Titanic challenge. Note: this has no feature engineering. "
   ]
  },
  {
   "cell_type": "code",
   "execution_count": 2,
   "metadata": {},
   "outputs": [],
   "source": [
    "# Uncomment below to Install azureml.core in the current Jupyter kernel\n",
    "# import sys\n",
    "# !{sys.executable} -m  pip install azureml.core --user"
   ]
  },
  {
   "cell_type": "code",
   "execution_count": 3,
   "metadata": {},
   "outputs": [],
   "source": [
    "# Uncomment below to Install azureml.train.automl in the current Jupyter kernel\n",
    "# import sys\n",
    "# !{sys.executable} -m  pip install azureml.train.automl --user"
   ]
  },
  {
   "cell_type": "code",
   "execution_count": 4,
   "metadata": {},
   "outputs": [],
   "source": [
    "subscription_id = \"\"\n",
    "resource_group = \"auto-ml-local\"\n",
    "workspace_name = \"kappgle-ml-local\"\n",
    "workspace_region = \"eastus2\""
   ]
  },
  {
   "cell_type": "code",
   "execution_count": 5,
   "metadata": {},
   "outputs": [
    {
     "data": {
      "text/plain": [
       "{'applicationInsights': '/subscriptions/c8a23972-1b42-43fa-9bda-92e665014f30/resourcegroups/auto-ml-local/providers/microsoft.insights/components/kappgleminsightsswmwdewl',\n",
       " 'containerRegistry': '/subscriptions/c8a23972-1b42-43fa-9bda-92e665014f30/resourcegroups/auto-ml-local/providers/microsoft.containerregistry/registries/kappglemacrvuatnpjh',\n",
       " 'creationTime': '2019-02-11T00:06:12.4721271+00:00',\n",
       " 'description': '',\n",
       " 'friendlyName': 'kappgle-ml-local',\n",
       " 'id': '/subscriptions/c8a23972-1b42-43fa-9bda-92e665014f30/resourceGroups/auto-ml-local/providers/Microsoft.MachineLearningServices/workspaces/kappgle-ml-local',\n",
       " 'identityPrincipalId': 'c037cc6f-9b6d-4abb-b237-0927801f8514',\n",
       " 'identityTenantId': '72f988bf-86f1-41af-91ab-2d7cd011db47',\n",
       " 'identityType': 'SystemAssigned',\n",
       " 'keyVault': '/subscriptions/c8a23972-1b42-43fa-9bda-92e665014f30/resourcegroups/auto-ml-local/providers/microsoft.keyvault/vaults/kappglemkeyvaultuirqpheu',\n",
       " 'location': 'eastus2',\n",
       " 'name': 'kappgle-ml-local',\n",
       " 'storageAccount': '/subscriptions/c8a23972-1b42-43fa-9bda-92e665014f30/resourcegroups/auto-ml-local/providers/microsoft.storage/storageaccounts/kappglemstorageiskjuwas',\n",
       " 'type': 'Microsoft.MachineLearningServices/workspaces',\n",
       " 'workspaceid': '953614a2-6003-4f35-a62c-1f1b6bcfedde'}"
      ]
     },
     "execution_count": 5,
     "metadata": {},
     "output_type": "execute_result"
    }
   ],
   "source": [
    "# Import the Workspace class and check the Azure ML SDK version.\n",
    "from azureml.core import Workspace\n",
    "\n",
    "ws = Workspace.create(name = workspace_name,\n",
    "                      subscription_id = subscription_id,\n",
    "                      resource_group = resource_group, \n",
    "                      location = workspace_region,\n",
    "                      exist_ok=True)\n",
    "ws.get_details()"
   ]
  },
  {
   "cell_type": "code",
   "execution_count": 6,
   "metadata": {},
   "outputs": [
    {
     "data": {
      "text/html": [
       "<div>\n",
       "<style scoped>\n",
       "    .dataframe tbody tr th:only-of-type {\n",
       "        vertical-align: middle;\n",
       "    }\n",
       "\n",
       "    .dataframe tbody tr th {\n",
       "        vertical-align: top;\n",
       "    }\n",
       "\n",
       "    .dataframe thead th {\n",
       "        text-align: right;\n",
       "    }\n",
       "</style>\n",
       "<table border=\"1\" class=\"dataframe\">\n",
       "  <thead>\n",
       "    <tr style=\"text-align: right;\">\n",
       "      <th></th>\n",
       "      <th></th>\n",
       "    </tr>\n",
       "  </thead>\n",
       "  <tbody>\n",
       "    <tr>\n",
       "      <th>Location</th>\n",
       "      <td>eastus2</td>\n",
       "    </tr>\n",
       "    <tr>\n",
       "      <th>Project Directory</th>\n",
       "      <td>./automated-ml-classification</td>\n",
       "    </tr>\n",
       "    <tr>\n",
       "      <th>Resource Group</th>\n",
       "      <td>auto-ml-local</td>\n",
       "    </tr>\n",
       "    <tr>\n",
       "      <th>SDK version</th>\n",
       "      <td>1.0.10</td>\n",
       "    </tr>\n",
       "    <tr>\n",
       "      <th>Subscription ID</th>\n",
       "      <td>c8a23972-1b42-43fa-9bda-92e665014f30</td>\n",
       "    </tr>\n",
       "    <tr>\n",
       "      <th>Workspace</th>\n",
       "      <td>kappgle-ml-local</td>\n",
       "    </tr>\n",
       "  </tbody>\n",
       "</table>\n",
       "</div>"
      ],
      "text/plain": [
       "                                                       \n",
       "Location           eastus2                             \n",
       "Project Directory  ./automated-ml-classification       \n",
       "Resource Group     auto-ml-local                       \n",
       "SDK version        1.0.10                              \n",
       "Subscription ID    c8a23972-1b42-43fa-9bda-92e665014f30\n",
       "Workspace          kappgle-ml-local                    "
      ]
     },
     "execution_count": 6,
     "metadata": {},
     "output_type": "execute_result"
    }
   ],
   "source": [
    "import azureml.core\n",
    "import pandas as pd\n",
    "from azureml.core.workspace import Workspace\n",
    "import logging\n",
    "import os\n",
    "\n",
    "# ws = Workspace.from_config()\n",
    "# choose a name for the run history container in the workspace\n",
    "experiment_name = 'automated-ml-classification'\n",
    "# project folder\n",
    "project_folder = './automated-ml-classification'\n",
    "\n",
    "output = {}\n",
    "output['SDK version'] = azureml.core.VERSION\n",
    "output['Subscription ID'] = ws.subscription_id\n",
    "output['Workspace'] = ws.name\n",
    "output['Resource Group'] = ws.resource_group\n",
    "output['Location'] = ws.location\n",
    "output['Project Directory'] = project_folder\n",
    "pd.set_option('display.max_colwidth', -1)\n",
    "pd.DataFrame(data=output, index=['']).T"
   ]
  },
  {
   "cell_type": "code",
   "execution_count": 7,
   "metadata": {},
   "outputs": [],
   "source": [
    "import pickle\n",
    "import sys\n",
    "import os\n",
    "import pandas\n",
    "import numpy as np\n",
    "from sklearn import datasets\n",
    "from sklearn.metrics import confusion_matrix\n",
    "from sklearn.linear_model import LogisticRegression\n",
    "from sklearn.model_selection import train_test_split\n",
    "from sklearn.metrics import precision_recall_curve\n",
    "\n",
    "#get the titanic training data set\n",
    "url = \"https://raw.githubusercontent.com/TheovanKraay/mldata/master/titanic-train.csv\"\n",
    "titanic = pandas.read_csv(url)\n",
    "#dflow_X = titanic.drop('Survived', axis=1).values \n",
    "dflow_X = titanic[['Sex', 'Age', 'SibSp', 'Parch', 'Cabin', 'Embarked', 'Fare']]\n",
    "dflow_y = titanic['Survived']"
   ]
  },
  {
   "cell_type": "code",
   "execution_count": 8,
   "metadata": {},
   "outputs": [],
   "source": [
    "from sklearn.model_selection import train_test_split\n",
    "\n",
    "#split the dataset\n",
    "x_df = dflow_X\n",
    "y_df = dflow_y\n",
    "x_train, x_test, y_train, y_test = train_test_split(x_df, y_df, test_size=0.2, random_state=223)"
   ]
  },
  {
   "cell_type": "code",
   "execution_count": 9,
   "metadata": {},
   "outputs": [],
   "source": [
    "#configure AutoML settings\n",
    "automl_settings = {\n",
    "    \"iteration_timeout_minutes\" : 10,\n",
    "    \"iterations\" : 30,\n",
    "    \"primary_metric\" : 'AUC_weighted',\n",
    "    \"preprocess\" : True,\n",
    "    \"verbosity\" : logging.INFO,\n",
    "    \"n_cross_validations\": 5\n",
    "}"
   ]
  },
  {
   "cell_type": "code",
   "execution_count": 10,
   "metadata": {},
   "outputs": [
    {
     "name": "stderr",
     "output_type": "stream",
     "text": [
      "C:\\Users\\thvankra\\AppData\\Local\\Continuum\\anaconda3\\lib\\site-packages\\h5py\\__init__.py:36: FutureWarning: Conversion of the second argument of issubdtype from `float` to `np.floating` is deprecated. In future, it will be treated as `np.float64 == np.dtype(float).type`.\n",
      "  from ._conv import register_converters as _register_converters\n"
     ]
    }
   ],
   "source": [
    "from azureml.train.automl import AutoMLConfig\n",
    "\n",
    "# local compute - set the parameters\n",
    "automated_ml_config = AutoMLConfig(task = 'classification',\n",
    "                             debug_log = 'automated_ml_errors.log',\n",
    "                             path = project_folder,\n",
    "                             X = x_train.values,\n",
    "                             y = y_train.values.flatten(),\n",
    "                             **automl_settings)"
   ]
  },
  {
   "cell_type": "code",
   "execution_count": 11,
   "metadata": {},
   "outputs": [
    {
     "name": "stdout",
     "output_type": "stream",
     "text": [
      "Running on local machine\n",
      "Parent Run ID: AutoML_488ab5ac-d399-4cab-b651-4b1e50a0d0ee\n",
      "*******************************************************************************************************************\n",
      "ITERATION: The iteration being evaluated.\n",
      "PIPELINE: A summary description of the pipeline being evaluated.\n",
      "TRAINFRAC: Fraction of the training data to train on.\n",
      "DURATION: Time taken for the current iteration.\n",
      "METRIC: The result of computing score on the fitted pipeline.\n",
      "BEST: The best observed score thus far.\n",
      "*******************************************************************************************************************\n",
      "\n",
      " ITERATION   PIPELINE                                       TRAINFRAC  DURATION      METRIC      BEST\n",
      "         0   MaxAbsScaler LightGBM                          1.0000     0:00:16       0.8308    0.8308\n",
      "         1   MaxAbsScaler LightGBM                          1.0000     0:00:14       0.8310    0.8310\n",
      "         2   StandardScalerWrapper LightGBM                 1.0000     0:00:16       0.7750    0.8310\n",
      "         3   StandardScalerWrapper LogisticRegression       1.0000     0:00:14       0.8306    0.8310\n",
      "         4   StandardScalerWrapper LightGBM                 1.0000     0:00:21       0.8443    0.8443\n",
      "         5   SparseNormalizer LogisticRegression            1.0000     0:00:15       0.8275    0.8443\n",
      "         6   MaxAbsScaler LightGBM                          1.0000     0:00:15       0.8326    0.8443\n",
      "         7   StandardScalerWrapper RandomForest             1.0000     0:00:20       0.8107    0.8443\n",
      "         8   SparseNormalizer ExtremeRandomTrees            1.0000     0:00:24       0.7894    0.8443\n",
      "         9   MaxAbsScaler LogisticRegression                1.0000     0:00:16       0.8168    0.8443\n",
      "        10   TruncatedSVDWrapper LogisticRegression         1.0000     0:00:19       0.8159    0.8443\n",
      "        11   TruncatedSVDWrapper ExtremeRandomTrees         1.0000     0:00:41       0.8044    0.8443\n",
      "        12   StandardScalerWrapper LogisticRegression       1.0000     0:00:15       0.7997    0.8443\n",
      "        13   TruncatedSVDWrapper LogisticRegression         1.0000     0:00:17       0.8434    0.8443\n",
      "        14   MaxAbsScaler LogisticRegression                1.0000     0:00:19       0.8224    0.8443\n",
      "        15   MaxAbsScaler LogisticRegression                1.0000     0:00:17       0.8195    0.8443\n",
      "        16   StandardScalerWrapper ExtremeRandomTrees       1.0000     0:00:47       0.8370    0.8443\n",
      "        17   StandardScalerWrapper LogisticRegression       1.0000     0:00:14       0.7528    0.8443\n",
      "        18   SparseNormalizer LightGBM                      1.0000     0:00:17       0.8413    0.8443\n",
      "        19   MaxAbsScaler LightGBM                          1.0000     0:00:17       0.8289    0.8443\n",
      "        20   MaxAbsScaler LogisticRegression                1.0000     0:00:17       0.8218    0.8443\n",
      "        21   MaxAbsScaler LogisticRegression                1.0000     0:00:18       0.8215    0.8443\n",
      "        22   MaxAbsScaler LogisticRegression                1.0000     0:00:15       0.8378    0.8443\n",
      "        23   StandardScalerWrapper GradientBoosting         1.0000     0:00:19       0.8245    0.8443\n",
      "        24   MaxAbsScaler LightGBM                          1.0000     0:00:28       0.8463    0.8463\n",
      "        25   TruncatedSVDWrapper LogisticRegression         1.0000     0:00:18       0.8426    0.8463\n",
      "        26   MaxAbsScaler LogisticRegression                1.0000     0:00:17       0.8171    0.8463\n",
      "        27   MaxAbsScaler LinearSVM                         1.0000     0:00:21       0.8454    0.8463\n",
      "        28   StandardScalerWrapper RandomForest             1.0000     0:00:24       0.8203    0.8463\n",
      "        29   Ensemble                                       1.0000     0:02:19       0.8574    0.8574\n"
     ]
    }
   ],
   "source": [
    "#run the training\n",
    "\n",
    "from azureml.core.experiment import Experiment\n",
    "experiment=Experiment(ws, experiment_name)\n",
    "local_run = experiment.submit(automated_ml_config, show_output=True)"
   ]
  },
  {
   "cell_type": "code",
   "execution_count": 12,
   "metadata": {},
   "outputs": [
    {
     "name": "stdout",
     "output_type": "stream",
     "text": [
      "Run(Experiment: automated-ml-classification,\n",
      "Id: AutoML_488ab5ac-d399-4cab-b651-4b1e50a0d0ee_29,\n",
      "Type: None,\n",
      "Status: Completed)\n",
      "Pipeline(memory=None,\n",
      "     steps=[('datatransformer', DataTransformer(logger=None, task=None)), ('prefittedsoftvotingclassifier', PreFittedSoftVotingClassifier(classification_labels=None,\n",
      "               estimators=[('LinearSVM', Pipeline(memory=None,\n",
      "     steps=[('maxabsscaler', MaxAbsScaler(copy=True)), ('linearsvmwrapper', ...666666666667, 0.13333333333333333, 0.06666666666666667, 0.13333333333333333, 0.26666666666666666]))])\n"
     ]
    }
   ],
   "source": [
    "#get the best fitted model\n",
    "best_run, fitted_model = local_run.get_output()\n",
    "print(best_run)\n",
    "print(fitted_model)"
   ]
  },
  {
   "cell_type": "code",
   "execution_count": 13,
   "metadata": {},
   "outputs": [],
   "source": [
    "#predict against the Kaggle provided test data for the Titanic\n",
    "url = \"https://raw.githubusercontent.com/TheovanKraay/mldata/master/kaggle-test.csv\"\n",
    "test = pandas.read_csv(url)\n",
    "\n",
    "testpred = test[['Sex', 'Age', 'SibSp', 'Parch', 'Cabin', 'Embarked', 'Fare']]\n",
    "y_predict = fitted_model.predict(testpred.values)\n",
    "\n",
    "testpred = test[['PassengerId','Sex', 'Age', 'SibSp', 'Parch', 'Cabin', 'Embarked', 'Fare']]"
   ]
  },
  {
   "cell_type": "code",
   "execution_count": 14,
   "metadata": {},
   "outputs": [],
   "source": [
    "#generate a submission\n",
    "sub = pandas.DataFrame()\n",
    "sub['PassengerId'] = test['PassengerId']\n",
    "sub['Survived'] = y_predict\n",
    "#print(sub)"
   ]
  },
  {
   "cell_type": "code",
   "execution_count": 15,
   "metadata": {},
   "outputs": [],
   "source": [
    "#write the submission file\n",
    "sub.to_csv('submission.csv',index=False)"
   ]
  },
  {
   "cell_type": "code",
   "execution_count": null,
   "metadata": {},
   "outputs": [],
   "source": []
  }
 ],
 "metadata": {
  "kernelspec": {
   "display_name": "Python 3",
   "language": "python",
   "name": "python3"
  },
  "language_info": {
   "codemirror_mode": {
    "name": "ipython",
    "version": 3
   },
   "file_extension": ".py",
   "mimetype": "text/x-python",
   "name": "python",
   "nbconvert_exporter": "python",
   "pygments_lexer": "ipython3",
   "version": "3.6.4"
  }
 },
 "nbformat": 4,
 "nbformat_minor": 2
}
